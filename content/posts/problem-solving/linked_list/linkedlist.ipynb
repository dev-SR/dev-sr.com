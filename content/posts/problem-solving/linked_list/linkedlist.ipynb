{
 "cells": [
  {
   "cell_type": "markdown",
   "metadata": {},
   "source": [
    "jupyter nbconvert --to markdown linkedlist.ipynb --output linkedlist.md"
   ]
  },
  {
   "cell_type": "markdown",
   "metadata": {},
   "source": [
    "# Python"
   ]
  },
  {
   "cell_type": "code",
   "execution_count": 14,
   "metadata": {},
   "outputs": [
    {
     "name": "stdout",
     "output_type": "stream",
     "text": [
      "10->20->30\n",
      "20->30\n",
      "-1\n",
      "25->20->30\n"
     ]
    }
   ],
   "source": [
    "class ListNode:\n",
    "    def __init__(self, val):\n",
    "        self.val = val\n",
    "        self.next = None\n",
    "\n",
    "# Implementation for Singly Linked List\n",
    "class LinkedList:\n",
    "    def __init__(self):\n",
    "        # Init the list with a 'dummy' node which makes \n",
    "        # removing a node from the beginning of list easier.\n",
    "        newNode = ListNode(-1)\n",
    "        self.head = newNode\n",
    "        self.tail = newNode\n",
    "    \n",
    "    def insertEnd(self, val):\n",
    "        self.tail.next = ListNode(val)\n",
    "        self.tail = self.tail.next\n",
    "    \n",
    "    def insertAt(self, index, val):\n",
    "        newNode = ListNode(val)\n",
    "        prev = self.findPrevious(index - 1)\n",
    "        print(prev.val)\n",
    "        if prev:\n",
    "            newNode.next = prev.next\n",
    "            prev.next = newNode\n",
    "            if prev == self.tail:\n",
    "                self.tail = newNode\n",
    "    \n",
    "    def findPrevious(self, index):\n",
    "        i = 0\n",
    "        curr = self.head\n",
    "        while i < index and curr.next:\n",
    "            curr = curr.next\n",
    "            i += 1\n",
    "        return curr\n",
    "    \n",
    "    def remove(self, index):\n",
    "        prev = self.findPrevious(index - 1)\n",
    "        if prev and prev.next:\n",
    "            prev.next = prev.next.next\n",
    "            if prev.next is None:\n",
    "                self.tail = prev\n",
    "    \n",
    "    def print(self):\n",
    "        curr = self.head.next\n",
    "        if not curr:\n",
    "            print(\"Empty\")\n",
    "            return\n",
    "        while curr:\n",
    "            print(f'{curr.val}', end=\"\")\n",
    "            # avoid printing last arrow\n",
    "            if curr.next:\n",
    "                print(\"->\", end=\"\")\n",
    "            curr = curr.next\n",
    "        print()\n",
    "\n",
    "l = LinkedList()\n",
    "l.insertEnd(10)\n",
    "l.insertEnd(20)\n",
    "l.insertEnd(30)\n",
    "l.print()\n",
    "l.remove(1)\n",
    "l.print()\n",
    "l.insertAt(1, 25)\n",
    "l.print()\n"
   ]
  }
 ],
 "metadata": {
  "kernelspec": {
   "display_name": "base",
   "language": "python",
   "name": "python3"
  },
  "language_info": {
   "codemirror_mode": {
    "name": "ipython",
    "version": 3
   },
   "file_extension": ".py",
   "mimetype": "text/x-python",
   "name": "python",
   "nbconvert_exporter": "python",
   "pygments_lexer": "ipython3",
   "version": "3.9.12"
  },
  "orig_nbformat": 4
 },
 "nbformat": 4,
 "nbformat_minor": 2
}
