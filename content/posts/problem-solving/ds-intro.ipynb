{
 "cells": [
  {
   "cell_type": "markdown",
   "metadata": {},
   "source": [
    "- 👉🏻 If we are dealing with **top/maximum/minimum/closest ‘K' elements among 'N' elements**, we will be using a `Heap`.\n",
    "- 👉🏻 If the **given input is a sorted array or a list**, we will either be using `Binary Search` or the `Two Pointers`.\n",
    "- 👉🏻 If we **need to try all combinations (or permutations) of the input**, we can either use `Backtracking` or `Breadth First Search`.\n",
    "- 👉🏻 Most of the **questions related to Trees or Graphs** can be solved either through `Breadth First Search` or `Depth First Search`.\n",
    "- 👉🏻 **Every recursive solution can be converted to an iterative solution** using a `Stack`.\n",
    "- 👉🏻 If a problem is asking for **optimization (e.g., maximization or minimization)**, we will be using Dynamic Programming.\n",
    "- 👉🏻 If we need to **find some common substring among a set of strings**, we will be using a `HashMap` or a `Trie`.\n",
    "- 👉🏻 If we need to **search/manipulate a bunch of strings**, `Trie` will be the best data structure.\n",
    "- 👉🏻 For a problem involving arrays, if there exists a solution in `O(n^2)` time and O(1) space, there must exist two other solutions: 1) Using a `HashMap` or a `Set` for O(n) time and O(n) space, 2) Using sorting for `O(nlog(n))` time and O(1) space.\n",
    "- 👉🏻 If the problem is related to a **LinkedList** and we can't use extra space, then use the `Fast & Slow Pointer` approach."
   ]
  },
  {
   "cell_type": "markdown",
   "metadata": {},
   "source": [
    "- 1️⃣ Sliding Window: Array or Deque (Double-ended Queue)\n",
    "- 2️⃣ Two Pointers: Array or Linked List\n",
    "- 3️⃣ Binary Search: Sorted Array or List\n",
    "- 4️⃣ Fast and Slow Pointers: Linked List\n",
    "- 5️⃣ Merge Intervals: List of Intervals\n",
    "- 6️⃣ Top K Elements: Max Heap or Priority Queue\n",
    "- 7️⃣ K-way Merge: Min Heap or Priority Queue\n",
    "- 8️⃣ Breadth-First Search (BFS): Graph (Adjacency List or Matrix) or Tree\n",
    "- 9️⃣ Depth-First Search (DFS): Graph (Adjacency List or Matrix) or Tree\n",
    "- 🔟 Backtracking: Recursive approach or Stack for DFS\n",
    "- 1️⃣1️⃣ Dynamic Programming (DP): Array or Matrix\n",
    "- 1️⃣2️⃣ Kadane's Algorithm: Array (for finding maximum subarray sum)\n",
    "- 1️⃣3️⃣ Knapsack Problem: DP (2D array/table)\n",
    "- 1️⃣4️⃣ Tree Depth-First Search: Recursive DFS or Stack\n",
    "- 1️⃣5️⃣ Tree Breadth-First Search: Queue\n",
    "- 1️⃣6️⃣ Topological Sort: Graph (usually represented as an Adjacency List)\n",
    "- 1️⃣7️⃣ Trie: Tree-like data structure for strings\n",
    "- 1️⃣8️⃣ Graph - Bipartite Check: Graph (Adjacency List or Matrix) with Coloring\n",
    "- 1️⃣9️⃣ Bitwise XOR: Bit manipulation\n",
    "- 2️⃣0️⃣ Sliding Window - Optimal: Two Pointers\n",
    "\n"
   ]
  },
  {
   "cell_type": "markdown",
   "metadata": {},
   "source": [
    "## Algorithm Design Techniques"
   ]
  },
  {
   "cell_type": "markdown",
   "metadata": {},
   "source": [
    "### Divide and Conquer"
   ]
  },
  {
   "cell_type": "markdown",
   "metadata": {},
   "source": [
    "One of the important and effective techniques for solving a complex problem is divide and conquer. The divide-and-conquer paradigm divides a problem into smaller sub-problems, and then solves these; finally, it combines the results to obtain a global, optimal solution. More specifically, in divide-and-conquer design, the problem is divided into two smaller sub-problems, with each of them being solved recursively. The partial solutions are merged to obtain a final solution. This is a very common problem-solving technique, and is, arguably, the most commonly used approach in algorithm design. Some examples of the divide-and-conquer design technique are as follows:\n",
    "\n",
    "- Binary search\n",
    "- Merge sort\n",
    "- Quick sort\n",
    "- Algorithm for fast multiplication\n",
    "- Strassen’s matrix multiplication\n",
    "- Closest pair of points"
   ]
  },
  {
   "cell_type": "markdown",
   "metadata": {},
   "source": [
    "#### Binary Search"
   ]
  },
  {
   "cell_type": "markdown",
   "metadata": {},
   "source": [
    "The binary search algorithm is a way to find a specific item (target) in a **sorted list** of items. Instead of looking at each item one by one, **binary search divides the list in half and `checks the middle item`. If the middle item is the target, the search is successful. If the target is smaller than the middle item, the algorithm continues the search in the left half of the list. If the target is larger, the algorithm continues the search in the right half of the list.**"
   ]
  },
  {
   "cell_type": "markdown",
   "metadata": {},
   "source": [
    "1. Start with a sorted list of items.\n",
    "2. Set two pointers, one at the beginning of the list (left) and the other at the end of the list (right\n",
    "3. Calculate the `middle index` between the left and right pointers.\n",
    "4. **Compare the item at the middle index with the target**.\n",
    "   1. **If they match, the search is successful, and the middle index is returned.**\n",
    "   2. If the middle item is smaller than the target, **update the left pointer to be just after the middle index**, narrowing the search to the right half of the remaining items.\n",
    "   3. If the middle item is larger than the target, **update the right pointer to be just before the middle index**, narrowing the search to the left half.\n",
    "5. Repeat steps 3-4 until the left pointer is greater than the right pointer, indicating an empty search range. If the target hasn't been found by this point, it's not in the list."
   ]
  },
  {
   "cell_type": "markdown",
   "metadata": {},
   "source": [
    "Tricky situation calculating mid:\n",
    "\n",
    "Not `mid = right//2` which is true when `l=0,r=9` as `mid=r//2=4`, but\n",
    "when for example,`l=5`, mid will still be` m=r//2=4` but should have been `7`.\n",
    "\n",
    "So the right mid calculation should take into consideration the left pointer\n",
    "That is,\n",
    "\n",
    "\n",
    "```text\n",
    "Method 1:\n",
    "\n",
    "window = right-left      # .......______\n",
    "window_mid = window//2   # .......___\n",
    "mid = left+window_mid    # __________\n",
    "\n",
    "ex:\n",
    "w = 9-5=4\n",
    "w_m = 4//2=2\n",
    "m = 5+2=7\n",
    "\n",
    "Method 2:\n",
    "\n",
    "mid = left+right//2\n",
    "\n",
    "ex:\n",
    "m=9+5//2=7\n",
    "```"
   ]
  },
  {
   "cell_type": "code",
   "execution_count": 28,
   "metadata": {},
   "outputs": [
    {
     "name": "stdout",
     "output_type": "stream",
     "text": [
      "Target 4 found at index 1\n"
     ]
    }
   ],
   "source": [
    "# Example usage\n",
    "sorted_array = [2, 4, 6, 8, 10, 12, 14, 16, 18, 20,21]\n",
    "target_value = 4\n",
    "\n",
    "def binary_search(arr,target):\n",
    "    left = 0\n",
    "    right = len(arr)-1\n",
    "\n",
    "    while(left<=right):\n",
    "        \n",
    "        window = right-left\n",
    "        window_mid = window//2\n",
    "        mid = left+window_mid\n",
    "        \n",
    "        mid_item = arr[mid]\n",
    "        \n",
    "        if mid_item==target:\n",
    "            return mid  # Found the target\n",
    "        \n",
    "        if arr[mid] < target:\n",
    "            left = mid + 1  # Target is in the right half\n",
    "        else:\n",
    "            right = mid - 1  # Target is in the left half\n",
    "    \n",
    "    return -1  # Target not found\n",
    "\n",
    "\n",
    "result = binary_search(sorted_array, target_value)\n",
    "\n",
    "if result != -1:\n",
    "    print(f\"Target {target_value} found at index {result}\")\n",
    "else:\n",
    "    print(f\"Target {target_value} not found in the array\")"
   ]
  },
  {
   "cell_type": "markdown",
   "metadata": {},
   "source": [
    "#### Merge Sort "
   ]
  },
  {
   "cell_type": "markdown",
   "metadata": {},
   "source": [
    "**Merge Sort** is a divide-and-conquer algorithm that involves breaking down an array into smaller subarrays until each subarray has only one element. Then, it repeatedly merges the subarrays in a *sorted order* to produce a final sorted array."
   ]
  },
  {
   "cell_type": "markdown",
   "metadata": {},
   "source": [
    "1. If the array has 1 or 0 elements, it is already considered sorted.\n",
    "2. Otherwise, divide the array into two halves: the left half and the right half.\n",
    "3. Recursively apply the Merge Sort algorithm to both the left and right halves.\n",
    "4. Merge the two sorted halves back together\n",
    "\n",
    "Recursive case:\n",
    "\n",
    "- `Base` : len<=1 -> return arr; it is already considered sorted\n",
    "- `Induction Hypothesis` : Assuming applying merge_sort() on left and right halve of the array will give me sorted left and right half array.\n",
    "- `Induction Hypothesis` : Just merge them back!!"
   ]
  },
  {
   "cell_type": "code",
   "execution_count": 30,
   "metadata": {},
   "outputs": [],
   "source": [
    "def merge_sort(arr):\n",
    "    # Base case: If the array has 1 or 0 elements, it's already sorted\n",
    "    if len(arr) <= 1:\n",
    "        return arr\n",
    "    \n",
    "    # Divide the array into two halves\n",
    "    mid = len(arr) // 2\n",
    "    left_half = arr[:mid]\n",
    "    right_half = arr[mid:]\n",
    "    \n",
    "    # Induction Hypothesis\n",
    "    left_half = merge_sort(left_half)\n",
    "    right_half = merge_sort(right_half)\n",
    "    \n",
    "    # Induction Hypothesis\n",
    "    return merge(left_half, right_half)"
   ]
  },
  {
   "cell_type": "markdown",
   "metadata": {},
   "source": [
    "- Merge the two sorted halves back together:\n",
    "  1. Create an empty result array.\n",
    "  2. Initialize two pointers, one for each half.\n",
    "  3. Compare the elements at the pointers of both halves and select the smaller element to add to the result array.\n",
    "  4. Move the pointer of the selected element's half forward.\n",
    "  5. Repeat the comparison and addition until both halves are merged.\n",
    "  6. If there are remaining elements in either half, add them to the result array."
   ]
  },
  {
   "cell_type": "code",
   "execution_count": 32,
   "metadata": {},
   "outputs": [
    {
     "name": "stdout",
     "output_type": "stream",
     "text": [
      "[5, 6, 7, 11, 12, 13]\n"
     ]
    }
   ],
   "source": [
    "def merge(left, right):\n",
    "    result = []  # Initialize an empty array to store the merged result\n",
    "    left_idx, right_idx = 0, 0  # Initialize pointers for both halves\n",
    "    \n",
    "    # Compare and merge elements from left and right halves\n",
    "    while left_idx < len(left) and right_idx < len(right):\n",
    "        if left[left_idx] < right[right_idx]:\n",
    "            result.append(left[left_idx])  # Add the smaller element from left\n",
    "            left_idx += 1\n",
    "        else:\n",
    "            result.append(right[right_idx])  # Add the smaller element from right\n",
    "            right_idx += 1\n",
    "    \n",
    "    # Add remaining elements from left and right, if any\n",
    "    result.extend(left[left_idx:])\n",
    "    result.extend(right[right_idx:])\n",
    "    \n",
    "    return result  # Return the merged and sorted result\n",
    "\n",
    "# Example usage\n",
    "arr = [12, 11, 13, 5, 7, 6]\n",
    "sorted_arr = merge_sort(arr)\n",
    "print(sorted_arr)"
   ]
  }
 ],
 "metadata": {
  "kernelspec": {
   "display_name": "base",
   "language": "python",
   "name": "python3"
  },
  "language_info": {
   "codemirror_mode": {
    "name": "ipython",
    "version": 3
   },
   "file_extension": ".py",
   "mimetype": "text/x-python",
   "name": "python",
   "nbconvert_exporter": "python",
   "pygments_lexer": "ipython3",
   "version": "3.9.12"
  },
  "orig_nbformat": 4
 },
 "nbformat": 4,
 "nbformat_minor": 2
}
